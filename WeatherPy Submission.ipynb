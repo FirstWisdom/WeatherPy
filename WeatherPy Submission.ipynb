{
 "cells": [
  {
   "cell_type": "code",
   "execution_count": null,
   "metadata": {},
   "outputs": [],
   "source": [
    "import matplotlib.pyplot as plt\n",
    "import pandas as pd\n",
    "import numpy as np\n",
    "import requests\n",
    "import time\n",
    "import api_keys\n",
    "from citipy import citipy\n",
    "\n",
    "output_data_file = 'output_data/cities.csv'\n",
    "\n",
    "lat_range = (-90, 90)\n",
    "lng_range = (-180, 180)"
   ]
  },
  {
   "cell_type": "code",
   "execution_count": null,
   "metadata": {},
   "outputs": [],
   "source": [
    "lat_lngs = []\n",
    "cities = []\n",
    "\n",
    "lats = np.random.uniform(low=-90.000, high=90.000, size=1500)\n",
    "lngs = np.random.uniform(low=-180.000, high=180.000, size=1500)\n",
    "lat_lngs=zip(lats, lngs)\n",
    "\n",
    "for lat_lng in lat_lngs:\n",
    "    city = citipy.nearest_city(lat_lng[0], lat_lng[1]).city_name\n",
    "    if city not in cities:\n",
    "        cities.append(city)\n",
    "\n",
    "print(len(cities))\n",
    "\n",
    "\n",
    "print(cities[0:15])\n",
    "\n",
    "cities_column = {'Cities': cities}\n",
    "cities_col_df = pd.DataFrame(cities_column)\n",
    "cities_col_df.head()"
   ]
  },
  {
   "cell_type": "code",
   "execution_count": null,
   "metadata": {},
   "outputs": [],
   "source": [
    "url = 'https://api.openweathermap.org/data/2.5/weather?'\n",
    "units = 'imperial'\n",
    "query_url = f'{url}appid={api_keys}&units={units}&q='\n",
    "\n",
    "cloudiness = []\n",
    "country = []\n",
    "date = []\n",
    "humidity = []\n",
    "lat = []\n",
    "lng = []\n",
    "max_temp = []\n",
    "wind_speed = []\n",
    "\n",
    "for city in cities:\n",
    "    city_data_response = requests.get(query_url)\n",
    "    city_data_json = city_data_response.json()\n",
    "    \n",
    "    try:\n",
    "        cloudiness.append(city_data_json['clouds']['all'])\n",
    "        country.append(city_data_json['sys']['country'])\n",
    "        date.append(city_data_json['dt'])\n",
    "        humidity.append(city_data_json['main']['humidity'])\n",
    "        lat.append(city_data_json['coord']['lat'])\n",
    "        lng.append(city_data_json['coord']['lon'])\n",
    "        max_temp.append(city_data_json['main']['temp'])\n",
    "        wind_speed.append(city_data_json['wind']['speed'])\n",
    "    \n",
    "    except KeyError:\n",
    "        print('City not found. Skipping...')\n",
    "        cloudiness.append('NAN')\n",
    "        country.append('NAN')\n",
    "        date.append('NAN')\n",
    "        humidity.append('NAN')\n",
    "        lat.append('NAN')\n",
    "        lng.append('NAN')\n",
    "        max_temp.append('NAN')\n",
    "        wind_speed.append('NAN')\n",
    "        \n",
    "        \n",
    "print(city_data_json)\n",
    "print(len(cloudiness))\n",
    "print(len(country))\n",
    "print(len(date))\n",
    "print(len(humidity))\n",
    "print(len(lat))\n",
    "print(len(lng))\n",
    "print(len(max_temp))\n",
    "print(len(wind_speed))"
   ]
  },
  {
   "cell_type": "code",
   "execution_count": null,
   "metadata": {},
   "outputs": [],
   "source": [
    "city_data_dict = {\n",
    "    'City': cities,\n",
    "    'Cloudiness': cloudiness,\n",
    "    'Country': country,\n",
    "    'Date': date,\n",
    "    'Humidity': humidity,\n",
    "    'Lat': lat,\n",
    "    'Lng': lng,\n",
    "    'Max Temp': max_temp,\n",
    "    'Wind Speed': wind_speed,\n",
    "    \n",
    "}\n",
    "cities_data_df = pd.DataFrame(city_data_dict)\n",
    "cities_data_df.head()    \n",
    "cities_data_df.count()"
   ]
  },
  {
   "cell_type": "code",
   "execution_count": null,
   "metadata": {},
   "outputs": [],
   "source": [
    "clean_cities_df = cities_data_df[cities_data_df.Country != 'NAN']\n",
    "clean_cities_df.head(15)\n",
    "clean_cities_df.count()"
   ]
  },
  {
   "cell_type": "code",
   "execution_count": null,
   "metadata": {},
   "outputs": [],
   "source": [
    "clean_cities_df.to_csv('output_data_file')\n",
    "clean_cities_df.head()"
   ]
  },
  {
   "cell_type": "code",
   "execution_count": null,
   "metadata": {},
   "outputs": [],
   "source": [
    "x_axis = clean_cities_df['Lat']\n",
    "y_axis = clean_cities_df['Max Temp']\n",
    "\n",
    "clean_cities_df.plot.scatter(x_axis, y_axis, marker='o', color='gold', edgecolor='black', grid=True)\n",
    "\n",
    "plt.xlim(-90,90)\n",
    "plt.ylim(0,120)\n",
    "plt.xlabel('Latitude')\n",
    "plt.ylabel('Temperature (F)')\n",
    "plt.title('Temperature (F) vs Latitude (01/07/2018)')\n",
    "\n",
    "plt.savefig(\"../WeatherPy/Temperature_Scatter_Plot.png\")\n",
    "plt.show()"
   ]
  },
  {
   "cell_type": "code",
   "execution_count": null,
   "metadata": {},
   "outputs": [],
   "source": [
    "x_axis = clean_cities_df['Lat']\n",
    "y_axis = clean_cities_df['Humidity']\n",
    "\n",
    "clean_cities_df.plot.scatter(x_axis, y_axis, marker='o', color='lightskyblue', edgecolor='black', grid=True)\n",
    "\n",
    "plt.xlim(-90,90)\n",
    "plt.ylim(0,100)\n",
    "plt.xlabel('Latitude')\n",
    "plt.ylabel('Humidity (%)')\n",
    "plt.title('Humidity (%) vs Latitude (01/07/2018)')\n",
    "\n",
    "plt.savefig(\"../WeatherPy/Humidity_Scatter_Plot.png\")\n",
    "plt.show()"
   ]
  },
  {
   "cell_type": "code",
   "execution_count": null,
   "metadata": {},
   "outputs": [],
   "source": [
    "x_axis = clean_cities_df['Lat']\n",
    "y_axis = clean_cities_df['Cloudiness']\n",
    "\n",
    "clean_cities_df.plot.scatter(x_axis, y_axis, marker='o', color='lightcoral', edgecolor='black', grid=True)\n",
    "\n",
    "plt.xlim(-90,90)\n",
    "plt.ylim(0,100)\n",
    "plt.xlabel('Latitude')\n",
    "plt.ylabel('Cloudiness(%)')\n",
    "plt.title('Cloudiness(%) vs Latitude (01/07/2018)')\n",
    "\n",
    "plt.savefig(\"../WeatherPy/Cloudiness_Scatter_Plot.png\")\n",
    "plt.show()"
   ]
  },
  {
   "cell_type": "code",
   "execution_count": null,
   "metadata": {},
   "outputs": [],
   "source": [
    "x_axis = clean_cities_df['Lat']\n",
    "y_axis = clean_cities_df['Wind Speed']\n",
    "\n",
    "clean_cities_df.plot.scatter(x_axis, y_axis, marker='o', color='gold', edgecolor='black', grid=True)\n",
    "\n",
    "plt.xlim(-90,90)\n",
    "plt.ylim(0,100)\n",
    "plt.xlabel('Latitude')\n",
    "plt.ylabel('Wind Speed (mph)')\n",
    "plt.title('Wind Speed (mph) vs Latitude (01/07/2018)')\n",
    "\n",
    "plt.savefig(\"../WeatherPy/Max_Temp_Scatter_Plot.png\")\n",
    "plt.show()"
   ]
  }
 ],
 "metadata": {
  "kernelspec": {
   "display_name": "Python 3",
   "language": "python",
   "name": "python3"
  },
  "language_info": {
   "codemirror_mode": {
    "name": "ipython",
    "version": 3
   },
   "file_extension": ".py",
   "mimetype": "text/x-python",
   "name": "python",
   "nbconvert_exporter": "python",
   "pygments_lexer": "ipython3",
   "version": "3.7.1"
  }
 },
 "nbformat": 4,
 "nbformat_minor": 2
}
